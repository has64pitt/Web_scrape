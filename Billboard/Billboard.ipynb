{
 "cells": [
  {
   "cell_type": "markdown",
   "metadata": {},
   "source": [
    "# Billboard"
   ]
  },
  {
   "cell_type": "markdown",
   "metadata": {},
   "source": [
    "![title](../img/billboard2020.png)"
   ]
  },
  {
   "cell_type": "code",
   "execution_count": 4,
   "metadata": {},
   "outputs": [],
   "source": [
    "import pandas as pd\n",
    "import requests\n",
    "import re\n",
    "import time\n",
    "from bs4 import BeautifulSoup as bs\n",
    "from pprint import pprint"
   ]
  },
  {
   "cell_type": "code",
   "execution_count": 5,
   "metadata": {},
   "outputs": [],
   "source": [
    "from IPython.core.display import HTML"
   ]
  },
  {
   "cell_type": "code",
   "execution_count": 7,
   "metadata": {},
   "outputs": [
    {
     "data": {
      "text/html": [
       "<style>.container { width:100% !important; }</style>"
      ],
      "text/plain": [
       "<IPython.core.display.HTML object>"
      ]
     },
     "metadata": {},
     "output_type": "display_data"
    }
   ],
   "source": [
    "display(HTML(\"<style>.container { width:100% !important; }</style>\"))\n",
    "pd.set_option('display.max_colwidth', 200)"
   ]
  },
  {
   "cell_type": "code",
   "execution_count": 8,
   "metadata": {},
   "outputs": [],
   "source": [
    "url_dict = {\n",
    "    'billboard2019' : 'https://en.wikipedia.org/wiki/Billboard_Year-End_Hot_100_singles_of_2019',\n",
    "    'billboard2020' : 'https://en.wikipedia.org/wiki/Billboard_Year-End_Hot_100_singles_of_2020',\n",
    "}"
   ]
  },
  {
   "cell_type": "markdown",
   "metadata": {},
   "source": [
    "# Which year to get"
   ]
  },
  {
   "cell_type": "code",
   "execution_count": 9,
   "metadata": {},
   "outputs": [],
   "source": [
    "bdsongs = 'billboard2020'"
   ]
  },
  {
   "cell_type": "code",
   "execution_count": 10,
   "metadata": {},
   "outputs": [
    {
     "data": {
      "text/plain": [
       "200"
      ]
     },
     "execution_count": 10,
     "metadata": {},
     "output_type": "execute_result"
    }
   ],
   "source": [
    "url = url_dict[bdsongs]\n",
    "response = requests.get(url)\n",
    "\n",
    "response.status_code"
   ]
  },
  {
   "cell_type": "code",
   "execution_count": 11,
   "metadata": {},
   "outputs": [],
   "source": [
    "page = response.text\n",
    "\n",
    "soup = bs(page)"
   ]
  },
  {
   "cell_type": "code",
   "execution_count": 12,
   "metadata": {},
   "outputs": [],
   "source": [
    "wikiurl_prefix = 'https://en.wikipedia.org'"
   ]
  },
  {
   "cell_type": "code",
   "execution_count": 13,
   "metadata": {},
   "outputs": [],
   "source": [
    "table = soup.find('table', class_ = 'wikitable')"
   ]
  },
  {
   "cell_type": "code",
   "execution_count": 14,
   "metadata": {},
   "outputs": [],
   "source": [
    "tbdata = ([p.find_all('td') for p in table.find_all('tr') if p.find_all('td')])"
   ]
  },
  {
   "cell_type": "code",
   "execution_count": 15,
   "metadata": {},
   "outputs": [
    {
     "data": {
      "text/plain": [
       "[[<td>1</td>,\n",
       "  <td>\"<a href=\"/wiki/Blinding_Lights\" title=\"Blinding Lights\">Blinding Lights</a>\"</td>,\n",
       "  <td><a href=\"/wiki/The_Weeknd\" title=\"The Weeknd\">The Weeknd</a>\n",
       "  </td>],\n",
       " [<td>2</td>,\n",
       "  <td>\"<a href=\"/wiki/Circles_(Post_Malone_song)\" title=\"Circles (Post Malone song)\">Circles</a>\"</td>,\n",
       "  <td><a href=\"/wiki/Post_Malone\" title=\"Post Malone\">Post Malone</a>\n",
       "  </td>],\n",
       " [<td>3</td>,\n",
       "  <td>\"<a href=\"/wiki/The_Box_(Roddy_Ricch_song)\" title=\"The Box (Roddy Ricch song)\">The Box</a>\"</td>,\n",
       "  <td><a href=\"/wiki/Roddy_Ricch\" title=\"Roddy Ricch\">Roddy Ricch</a>\n",
       "  </td>]]"
      ]
     },
     "execution_count": 15,
     "metadata": {},
     "output_type": "execute_result"
    }
   ],
   "source": [
    "tbdata[:3]"
   ]
  },
  {
   "cell_type": "code",
   "execution_count": 16,
   "metadata": {},
   "outputs": [],
   "source": [
    "def get_ytlink_from_wiki(wikipage):\n",
    "    time.sleep(1)\n",
    "    \n",
    "    try:\n",
    "        response = requests.get(wikipage)   \n",
    "        ipage = response.text\n",
    "        isoup = bs(ipage)\n",
    "    except:\n",
    "        return None\n",
    "        \n",
    "    try:\n",
    "        iinfobox = isoup.find('table', class_ = 'infobox')\n",
    "        ytlink = iinfobox.find('a', class_ = 'external')['href']\n",
    "    except :\n",
    "        ytlink = None\n",
    "    \n",
    "    return ytlink"
   ]
  },
  {
   "cell_type": "code",
   "execution_count": 17,
   "metadata": {},
   "outputs": [
    {
     "name": "stdout",
     "output_type": "stream",
     "text": [
      "0, Blinding Lights, https://www.youtube.com/watch?v=4NRXx6U8ABQ, The Weeknd, https://en.wikipedia.org/wiki/Blinding_Lights\n",
      "1, Circles, https://www.youtube.com/watch?v=wXhTHyIgQ_U, Post Malone, https://en.wikipedia.org/wiki/Circles_(Post_Malone_song)\n",
      "2, The Box, https://www.youtube.com/watch?v=UNZqm3dxd2w, Roddy Ricch, https://en.wikipedia.org/wiki/The_Box_(Roddy_Ricch_song)\n",
      "3, Don't Start Now, https://www.youtube.com/watch?v=oygrmJFKYZY, Dua Lipa, https://en.wikipedia.org/wiki/Don%27t_Start_Now\n",
      "4, Rockstar, https://www.youtube.com/watch?v=mxFstYSbBmc, DaBaby featuring Roddy Ricch, https://en.wikipedia.org/wiki/Rockstar_(DaBaby_song)\n",
      "5, Adore You, https://www.youtube.com/watch?v=yezDEWako8U, Harry Styles, https://en.wikipedia.org/wiki/Adore_You_(Harry_Styles_song)\n",
      "6, Life Is Good, https://www.youtube.com/watch?v=l0U7SxXHkPY, Future featuring Drake, https://en.wikipedia.org/wiki/Life_Is_Good_(song)\n",
      "7, Memories, https://www.youtube.com/watch?v=SlPhMPnQ58k, Maroon 5, https://en.wikipedia.org/wiki/Memories_(Maroon_5_song)\n",
      "8, The Bones, https://www.youtube.com/watch?v=gvPMVKUI9go, Maren Morris, https://en.wikipedia.org/wiki/The_Bones_(song)\n",
      "9, Someone You Loved, https://www.youtube.com/watch?v=zABLecsR5UE, Lewis Capaldi, https://en.wikipedia.org/wiki/Someone_You_Loved\n",
      "10, Say So, https://www.youtube.com/watch?v=pok8H_KF1FA, Doja Cat, https://en.wikipedia.org/wiki/Say_So_(Doja_Cat_song)\n",
      "11, I Hope, https://www.youtube.com/watch?v=qcCH6JpcK5w, Gabby Barrett featuring Charlie Puth, https://en.wikipedia.org/wiki/I_Hope_(Gabby_Barrett_song)\n",
      "12, Whats Poppin, https://www.youtube.com/watch?v=w9uWPBDHEKE, Jack Harlow featuring DaBaby, Tory Lanez and Lil Wayne, https://en.wikipedia.org/wiki/Whats_Poppin\n",
      "13, Dance Monkey, https://www.youtube.com/watch?v=q0hyYWKXF0Q, Tones and I, https://en.wikipedia.org/wiki/Dance_Monkey\n",
      "14, Savage, https://www.youtube.com/watch?v=EOxj2ROIxok, Megan Thee Stallion featuring Beyoncé, https://en.wikipedia.org/wiki/Savage_(song)\n",
      "15, Roxanne, https://www.youtube.com/watch?v=16YnOUnbE6s, Arizona Zervas, https://en.wikipedia.org/wiki/Roxanne_(Arizona_Zervas_song)\n",
      "16, Intentions, https://www.youtube.com/watch?v=9p2wMpVVtXg, Justin Bieber featuring Quavo, https://en.wikipedia.org/wiki/Intentions_(Justin_Bieber_song)\n",
      "17, Everything I Wanted, https://www.youtube.com/watch?v=EgBJmlPo8Xw, Billie Eilish, https://en.wikipedia.org/wiki/Everything_I_Wanted\n",
      "18, Roses, https://www.youtube.com/watch?v=XHA-QM-q-3E, Saint Jhn, https://en.wikipedia.org/wiki/Roses_(Saint_Jhn_song)\n",
      "19, Watermelon Sugar, https://www.youtube.com/watch?v=E07s5ZYygMg, Harry Styles, https://en.wikipedia.org/wiki/Watermelon_Sugar\n",
      "20, Before You Go, https://www.youtube.com/watch?v=Jtauh8GcxBY, Lewis Capaldi, https://en.wikipedia.org/wiki/Before_You_Go_(Lewis_Capaldi_song)\n",
      "21, Falling, https://www.youtube.com/watch?v=L7mfjvdnPno, Trevor Daniel, https://en.wikipedia.org/wiki/Falling_(Trevor_Daniel_song)\n",
      "22, 10,000 Hours, https://www.youtube.com/watch?v=Y2E71oe0aSM, Dan + Shay and Justin Bieber, https://en.wikipedia.org/wiki/10,000_Hours\n",
      "23, WAP, https://www.youtube.com/watch?v=hsm4poTWjMs, Cardi B featuring Megan Thee Stallion, https://en.wikipedia.org/wiki/WAP_(song)\n",
      "24, Ballin', https://www.youtube.com/watch?v=YS0h2-hy9rw, Mustard featuring Roddy Ricch, https://en.wikipedia.org/wiki/Ballin%27_(Mustard_song)\n",
      "25, Hot Girl Bummer, https://www.youtube.com/watch?v=yMlKJGKyoCo, Blackbear, https://en.wikipedia.org/wiki/Hot_Girl_Bummer\n",
      "26, Blueberry Faygo, https://www.youtube.com/watch?v=V_jHc_n0p9c, Lil Mosey, https://en.wikipedia.org/wiki/Blueberry_Faygo\n",
      "27, Heartless, https://www.youtube.com/watch?v=1DpH-icPpl0, The Weeknd, https://en.wikipedia.org/wiki/Heartless_(The_Weeknd_song)\n",
      "28, Bop, https://www.youtube.com/watch?v=28hYUZMufDg, DaBaby, https://en.wikipedia.org/wiki/Bop_(DaBaby_song)\n",
      "29, Lose You to Love Me, https://www.youtube.com/watch?v=zlJDTxahav0, Selena Gomez, https://en.wikipedia.org/wiki/Lose_You_to_Love_Me\n",
      "30, Good as Hell, https://www.youtube.com/watch?v=SmbmeOgWsqE, Lizzo, https://en.wikipedia.org/wiki/Good_as_Hell\n",
      "31, Toosie Slide, https://www.youtube.com/watch?v=xWggTb45brM, Drake, https://en.wikipedia.org/wiki/Toosie_Slide\n",
      "32, Break My Heart, https://www.youtube.com/watch?v=Nj2U6rhnucI, Dua Lipa, https://en.wikipedia.org/wiki/Break_My_Heart_(Dua_Lipa_song)\n",
      "33, Chasin' You, None, Morgan Wallen, https://en.wikipedia.org/wiki/Chasin%27_You\n",
      "34, Savage Love (Laxed – Siren Beat), https://www.youtube.com/watch?v=Jvcv8trEuao, Jawsh 685 and Jason Derulo, https://en.wikipedia.org/wiki/Savage_Love_(Laxed_%E2%80%93_Siren_Beat)\n",
      "35, No Guidance, https://www.youtube.com/watch?v=6L_k74BOLag, Chris Brown featuring Drake, https://en.wikipedia.org/wiki/No_Guidance\n",
      "36, My Oh My, https://www.youtube.com/watch?v=6fd2kkLmSDQ, Camila Cabello featuring DaBaby, https://en.wikipedia.org/wiki/My_Oh_My_(Camila_Cabello_song)\n",
      "37, Dynamite, https://www.youtube.com/watch?v=gdZLi9oWNZg, BTS, https://en.wikipedia.org/wiki/Dynamite_(BTS_song)\n",
      "38, Go Crazy, https://www.youtube.com/watch?v=dPhwbZBvW2o, Chris Brown and Young Thug, https://en.wikipedia.org/wiki/Go_Crazy_(Chris_Brown_and_Young_Thug_song)\n",
      "39, High Fashion, None, Roddy Ricch featuring Mustard, https://en.wikipedia.org/wiki/High_Fashion_(song)\n",
      "40, Laugh Now Cry Later, https://www.youtube.com/watch?v=JFm7YDVlqnI, Drake featuring Lil Durk, https://en.wikipedia.org/wiki/Laugh_Now_Cry_Later\n",
      "41, Woah, https://www.youtube.com/watch?v=nUEqPtVGIpE-A, Lil Baby, https://en.wikipedia.org/wiki/Woah_(Lil_Baby_song)\n",
      "42, Death Bed, https://www.youtube.com/watch?v=jJPMnTXl63E, Powfu featuring Beabadoobee, https://en.wikipedia.org/wiki/Death_Bed_(Coffee_for_Your_Head)\n",
      "43, Señorita, https://www.youtube.com/watch?v=Pkh8UtuejGw, Shawn Mendes and Camila Cabello, https://en.wikipedia.org/wiki/Se%C3%B1orita_(Shawn_Mendes_and_Camila_Cabello_song)\n",
      "44, Highest in the Room, https://www.youtube.com/watch?v=tfSS1e3kYeo, Travis Scott, https://en.wikipedia.org/wiki/Highest_in_the_Room\n",
      "45, Bad Guy, https://www.youtube.com/watch?v=DyDfgMOUjCI, Billie Eilish, https://en.wikipedia.org/wiki/Bad_Guy_(Billie_Eilish_song)\n",
      "46, Mood, https://www.youtube.com/watch?v=GrAchTdepsU, 24kGoldn featuring Iann Dior, https://en.wikipedia.org/wiki/Mood_(song)\n",
      "47, Rain on Me, https://www.youtube.com/watch?v=AoAm4om0wTs, Lady Gaga and Ariana Grande, https://en.wikipedia.org/wiki/Rain_on_Me_(Lady_Gaga_and_Ariana_Grande_song)\n",
      "48, For the Night, https://www.youtube.com/watch?v=Q9pjm4cNsfc, Pop Smoke featuring Lil Baby and DaBaby, https://en.wikipedia.org/wiki/For_the_Night\n",
      "49, Ritmo (Bad Boys for Life), None, Black Eyed Peas and J Balvin, https://en.wikipedia.org/wiki/Ritmo_(Bad_Boys_for_Life)\n",
      "50, Heart on Ice, https://www.youtube.com/watch?v=deMLg4FPFhQ, Rod Wave, https://en.wikipedia.org/wiki/Heart_on_Ice\n",
      "51, Nobody but You, https://www.youtube.com/watch?v=4h9o0Gujuoc, Blake Shelton and Gwen Stefani, https://en.wikipedia.org/wiki/Nobody_but_You_(Blake_Shelton_and_Gwen_Stefani_song)\n",
      "52, Trampoline, None, Shaed, https://en.wikipedia.org/wiki/Trampoline_(Shaed_song)\n",
      "53, Come & Go, https://www.youtube.com/watch?v=5Di20x6vVVU, Juice Wrld and Marshmello, https://en.wikipedia.org/wiki/Come_%26_Go_(Juice_Wrld_and_Marshmello_song)\n",
      "54, Truth Hurts, https://www.youtube.com/watch?v=P00HMxdsVZI, Lizzo, https://en.wikipedia.org/wiki/Truth_Hurts_(song)\n",
      "55, If the World Was Ending, https://www.youtube.com/watch?v=1jO2wSpAoxA, JP Saxe featuring Julia Michaels, https://en.wikipedia.org/wiki/If_the_World_Was_Ending\n",
      "56, We Paid, https://www.youtube.com/watch?v=GErG9femMQk-A, Lil Baby and 42 Dugg, https://en.wikipedia.org/wiki/We_Paid\n",
      "57, Yummy, https://www.youtube.com/watch?v=8EJ3zbKTWQ8, Justin Bieber, https://en.wikipedia.org/wiki/Yummy_(Justin_Bieber_song)\n",
      "58, One Man Band, None, Old Dominion, https://en.wikipedia.org/wiki/One_Man_Band_(Old_Dominion_song)\n",
      "59, Got What I Got, None, Jason Aldean, https://en.wikipedia.org/wiki/Got_What_I_Got\n",
      "60, Sunday Best, https://www.youtube.com/watch?v=83KqwEEGw4, Surfaces, https://en.wikipedia.org/wiki/Sunday_Best_(Surfaces_song)\n",
      "61, Godzilla, https://www.youtube.com/watch?v=r_0JjYUe5jo, Eminem featuring Juice Wrld, https://en.wikipedia.org/wiki/Godzilla_(Eminem_song)\n"
     ]
    },
    {
     "name": "stdout",
     "output_type": "stream",
     "text": [
      "62, Bandit, https://www.youtube.com/watch?v=Sw5fNI400E4, Juice Wrld and YoungBoy Never Broke Again, https://en.wikipedia.org/wiki/Bandit_(song)\n",
      "63, Party Girl, https://www.youtube.com/watch?v=1KlNDZpCkHc, StaySolidRocky, https://en.wikipedia.org/wiki/Party_Girl_(StaySolidRocky_song)\n",
      "64, Die from a Broken Heart, None, Maddie & Tae, https://en.wikipedia.org/wiki/Die_from_a_Broken_Heart\n",
      "65, Popstar, None, DJ Khaled featuring Drake, https://en.wikipedia.org/wiki/Popstar_(DJ_Khaled_song)\n",
      "66, All I Want for Christmas Is You, https://www.youtube.com/watch?v=yXQViqx6GMY, Mariah Carey, https://en.wikipedia.org/wiki/All_I_Want_for_Christmas_Is_You\n",
      "67, One of Them Girls, None, Lee Brice, https://en.wikipedia.org/wiki/One_of_Them_Girls\n",
      "68, Hard to Forget, https://www.youtube.com/watch?v=Wxhv_HsEIl4, Sam Hunt, https://en.wikipedia.org/wiki/Hard_to_Forget\n",
      "69, One Margarita, None, Luke Bryan, https://en.wikipedia.org/wiki/One_Margarita\n",
      "70, Panini, https://www.youtube.com/watch?v=bXcSLI58-h8, Lil Nas X, https://en.wikipedia.org/wiki/Panini_(song)\n",
      "71, Hot, https://www.youtube.com/watch?v=leJNDpm_G10, Young Thug featuring Gunna, https://en.wikipedia.org/wiki/Hot_(Young_Thug_song)\n",
      "72, I Hope You're Happy Now, None, Carly Pearce and Lee Brice, https://en.wikipedia.org/wiki/I_Hope_You%27re_Happy_Now_(Carly_Pearce_and_Lee_Brice_song)\n",
      "73, Emotionally Scarred, None, Lil Baby, https://en.wikipedia.org/wiki/Emotionally_Scarred\n",
      "74, Suicidal, https://www.youtube.com/watch?v=9OmgXxiKV7A, YNW Melly featuring Juice Wrld, https://en.wikipedia.org/wiki/Suicidal_(song)\n",
      "75, The Bigger Picture, https://www.youtube.com/watch?v=_VDGysJGNoI, Lil Baby, https://en.wikipedia.org/wiki/The_Bigger_Picture_(song)\n",
      "76, Only Human, https://www.youtube.com/watch?v=kBNt8hYvn8A, Jonas Brothers, https://en.wikipedia.org/wiki/Only_Human_(Jonas_Brothers_song)\n",
      "77, The Woo, https://www.youtube.com/watch?v=G6XthQpk8uk, Pop Smoke featuring 50 Cent and Roddy Ricch, https://en.wikipedia.org/wiki/The_Woo\n",
      "78, Sum 2 Prove, https://www.youtube.com/watch?v=xOjy0tL5EuA, Lil Baby, https://en.wikipedia.org/wiki/Sum_2_Prove\n",
      "79, Stuck with U, https://www.youtube.com/watch?v=pE49WK-oNjU, Ariana Grande and Justin Bieber, https://en.wikipedia.org/wiki/Stuck_with_U\n",
      "80, Mood Swings, https://www.youtube.com/watch?v=mM8ostx0Ub8, Pop Smoke featuring Lil Tjay, https://en.wikipedia.org/wiki/Mood_Swings_(Pop_Smoke_song)\n",
      "81, You Should Be Sad, https://www.youtube.com/watch?v=8nBFqZppIF0, Halsey, https://en.wikipedia.org/wiki/You_Should_Be_Sad\n",
      "82, Dior, https://www.youtube.com/watch?v=oorVWW9ywG0, Pop Smoke, https://en.wikipedia.org/wiki/Dior_(song)\n",
      "83, Supalonely, https://www.youtube.com/watch?v=Rb6Scz-5YOs, Benee featuring Gus Dapperton, https://en.wikipedia.org/wiki/Supalonely\n",
      "84, Even Though I'm Leaving, None, Luke Combs, https://en.wikipedia.org/wiki/Even_Though_I%27m_Leaving\n",
      "85, The Scotts, None, The Scotts, Travis Scott and Kid Cudi, https://en.wikipedia.org/wiki/The_Scotts\n",
      "86, Juicy, https://www.youtube.com/watch?v=YIALlhlyqO4, Doja Cat and Tyga, https://en.wikipedia.org/wiki/Juicy_(Doja_Cat_song)\n",
      "87, Be Like That, https://www.youtube.com/watch?v=GEAy7eXb2lo, Kane Brown, Swae Lee and Khalid, https://en.wikipedia.org/wiki/Be_Like_That_(Kane_Brown,_Swae_Lee_and_Khalid_song)\n",
      "88, Homesick, None, Kane Brown, https://en.wikipedia.org/wiki/Homesick_(Kane_Brown_song)\n",
      "89, Rags2Riches, https://www.youtube.com/watch?v=JxAlZOn4QhM, Rod Wave featuring ATR Son Son, https://en.wikipedia.org/wiki/Rags2Riches_(song)\n",
      "90, Bluebird, None, Miranda Lambert, https://en.wikipedia.org/wiki/Bluebird_(Miranda_Lambert_song)\n",
      "91, Wishing Well, https://www.youtube.com/watch?v=C5i-UnuUKUI, Juice Wrld, https://en.wikipedia.org/wiki/Wishing_Well_(Juice_Wrld_song)\n",
      "92, Does to Me, None, Luke Combs featuring Eric Church, https://en.wikipedia.org/wiki/Does_to_Me\n",
      "93, Pussy Fairy (OTW), https://www.youtube.com/watch?v=wy2ujCUtCHU, Jhené Aiko, https://en.wikipedia.org/wiki/Pussy_Fairy_(OTW)\n",
      "94, ILY (I Love You Baby), https://www.youtube.com/watch?v=89degLrNZM8, Surf Mesa featuring Emilee, https://en.wikipedia.org/wiki/ILY_(I_Love_You_Baby)\n",
      "95, More Than My Hometown, None, Morgan Wallen, https://en.wikipedia.org/wiki/More_Than_My_Hometown\n",
      "96, Lovin' on You, None, Luke Combs, https://en.wikipedia.org/wiki/Lovin%27_on_You\n",
      "97, Said Sum, https://www.youtube.com/watch?v=T8pi91qWnRw, Moneybagg Yo, https://en.wikipedia.org/wiki/Said_Sum\n",
      "98, Slide, https://www.youtube.com/watch?v=SUJloylmEZM, H.E.R. featuring YG, https://en.wikipedia.org/wiki/Slide_(H.E.R._song)\n",
      "99, Walk Em Down, https://www.youtube.com/watch?v=fyIcQ1Xl-rs, NLE Choppa featuring Roddy Ricch, https://en.wikipedia.org/wiki/Walk_Em_Down\n"
     ]
    }
   ],
   "source": [
    "songlist = []\n",
    "\n",
    "for rank, tb in enumerate(tbdata[:]):\n",
    "    wikipage = wikiurl_prefix + tb[-2].find('a')['href']\n",
    "\n",
    "    title = tb[-2].find('a').text.strip('\\n')\n",
    "    \n",
    "    artist = tb[-1].text.strip('\\n')\n",
    "    \n",
    "    ytlink = get_ytlink_from_wiki(wikipage)\n",
    "    \n",
    "    print(f'{rank}, {title}, {ytlink}, {artist}, {wikipage}')\n",
    "    songlist.append(\n",
    "        {\n",
    "            'title' : title,\n",
    "            'ytlink' : ytlink,\n",
    "            'artist' : artist,\n",
    "            'wikipage' : wikipage,\n",
    "        }\n",
    "    )"
   ]
  },
  {
   "cell_type": "code",
   "execution_count": 18,
   "metadata": {},
   "outputs": [
    {
     "data": {
      "text/html": [
       "<div>\n",
       "<style scoped>\n",
       "    .dataframe tbody tr th:only-of-type {\n",
       "        vertical-align: middle;\n",
       "    }\n",
       "\n",
       "    .dataframe tbody tr th {\n",
       "        vertical-align: top;\n",
       "    }\n",
       "\n",
       "    .dataframe thead th {\n",
       "        text-align: right;\n",
       "    }\n",
       "</style>\n",
       "<table border=\"1\" class=\"dataframe\">\n",
       "  <thead>\n",
       "    <tr style=\"text-align: right;\">\n",
       "      <th></th>\n",
       "      <th>title</th>\n",
       "      <th>ytlink</th>\n",
       "      <th>artist</th>\n",
       "      <th>wikipage</th>\n",
       "    </tr>\n",
       "  </thead>\n",
       "  <tbody>\n",
       "    <tr>\n",
       "      <th>0</th>\n",
       "      <td>Blinding Lights</td>\n",
       "      <td>https://www.youtube.com/watch?v=4NRXx6U8ABQ</td>\n",
       "      <td>The Weeknd</td>\n",
       "      <td>https://en.wikipedia.org/wiki/Blinding_Lights</td>\n",
       "    </tr>\n",
       "    <tr>\n",
       "      <th>1</th>\n",
       "      <td>Circles</td>\n",
       "      <td>https://www.youtube.com/watch?v=wXhTHyIgQ_U</td>\n",
       "      <td>Post Malone</td>\n",
       "      <td>https://en.wikipedia.org/wiki/Circles_(Post_Malone_song)</td>\n",
       "    </tr>\n",
       "    <tr>\n",
       "      <th>2</th>\n",
       "      <td>The Box</td>\n",
       "      <td>https://www.youtube.com/watch?v=UNZqm3dxd2w</td>\n",
       "      <td>Roddy Ricch</td>\n",
       "      <td>https://en.wikipedia.org/wiki/The_Box_(Roddy_Ricch_song)</td>\n",
       "    </tr>\n",
       "    <tr>\n",
       "      <th>3</th>\n",
       "      <td>Don't Start Now</td>\n",
       "      <td>https://www.youtube.com/watch?v=oygrmJFKYZY</td>\n",
       "      <td>Dua Lipa</td>\n",
       "      <td>https://en.wikipedia.org/wiki/Don%27t_Start_Now</td>\n",
       "    </tr>\n",
       "    <tr>\n",
       "      <th>4</th>\n",
       "      <td>Rockstar</td>\n",
       "      <td>https://www.youtube.com/watch?v=mxFstYSbBmc</td>\n",
       "      <td>DaBaby featuring Roddy Ricch</td>\n",
       "      <td>https://en.wikipedia.org/wiki/Rockstar_(DaBaby_song)</td>\n",
       "    </tr>\n",
       "    <tr>\n",
       "      <th>...</th>\n",
       "      <td>...</td>\n",
       "      <td>...</td>\n",
       "      <td>...</td>\n",
       "      <td>...</td>\n",
       "    </tr>\n",
       "    <tr>\n",
       "      <th>95</th>\n",
       "      <td>More Than My Hometown</td>\n",
       "      <td>None</td>\n",
       "      <td>Morgan Wallen</td>\n",
       "      <td>https://en.wikipedia.org/wiki/More_Than_My_Hometown</td>\n",
       "    </tr>\n",
       "    <tr>\n",
       "      <th>96</th>\n",
       "      <td>Lovin' on You</td>\n",
       "      <td>None</td>\n",
       "      <td>Luke Combs</td>\n",
       "      <td>https://en.wikipedia.org/wiki/Lovin%27_on_You</td>\n",
       "    </tr>\n",
       "    <tr>\n",
       "      <th>97</th>\n",
       "      <td>Said Sum</td>\n",
       "      <td>https://www.youtube.com/watch?v=T8pi91qWnRw</td>\n",
       "      <td>Moneybagg Yo</td>\n",
       "      <td>https://en.wikipedia.org/wiki/Said_Sum</td>\n",
       "    </tr>\n",
       "    <tr>\n",
       "      <th>98</th>\n",
       "      <td>Slide</td>\n",
       "      <td>https://www.youtube.com/watch?v=SUJloylmEZM</td>\n",
       "      <td>H.E.R. featuring YG</td>\n",
       "      <td>https://en.wikipedia.org/wiki/Slide_(H.E.R._song)</td>\n",
       "    </tr>\n",
       "    <tr>\n",
       "      <th>99</th>\n",
       "      <td>Walk Em Down</td>\n",
       "      <td>https://www.youtube.com/watch?v=fyIcQ1Xl-rs</td>\n",
       "      <td>NLE Choppa featuring Roddy Ricch</td>\n",
       "      <td>https://en.wikipedia.org/wiki/Walk_Em_Down</td>\n",
       "    </tr>\n",
       "  </tbody>\n",
       "</table>\n",
       "<p>100 rows × 4 columns</p>\n",
       "</div>"
      ],
      "text/plain": [
       "                    title                                       ytlink  \\\n",
       "0         Blinding Lights  https://www.youtube.com/watch?v=4NRXx6U8ABQ   \n",
       "1                 Circles  https://www.youtube.com/watch?v=wXhTHyIgQ_U   \n",
       "2                 The Box  https://www.youtube.com/watch?v=UNZqm3dxd2w   \n",
       "3         Don't Start Now  https://www.youtube.com/watch?v=oygrmJFKYZY   \n",
       "4                Rockstar  https://www.youtube.com/watch?v=mxFstYSbBmc   \n",
       "..                    ...                                          ...   \n",
       "95  More Than My Hometown                                         None   \n",
       "96          Lovin' on You                                         None   \n",
       "97               Said Sum  https://www.youtube.com/watch?v=T8pi91qWnRw   \n",
       "98                  Slide  https://www.youtube.com/watch?v=SUJloylmEZM   \n",
       "99           Walk Em Down  https://www.youtube.com/watch?v=fyIcQ1Xl-rs   \n",
       "\n",
       "                              artist  \\\n",
       "0                         The Weeknd   \n",
       "1                        Post Malone   \n",
       "2                        Roddy Ricch   \n",
       "3                           Dua Lipa   \n",
       "4       DaBaby featuring Roddy Ricch   \n",
       "..                               ...   \n",
       "95                     Morgan Wallen   \n",
       "96                        Luke Combs   \n",
       "97                      Moneybagg Yo   \n",
       "98               H.E.R. featuring YG   \n",
       "99  NLE Choppa featuring Roddy Ricch   \n",
       "\n",
       "                                                    wikipage  \n",
       "0              https://en.wikipedia.org/wiki/Blinding_Lights  \n",
       "1   https://en.wikipedia.org/wiki/Circles_(Post_Malone_song)  \n",
       "2   https://en.wikipedia.org/wiki/The_Box_(Roddy_Ricch_song)  \n",
       "3            https://en.wikipedia.org/wiki/Don%27t_Start_Now  \n",
       "4       https://en.wikipedia.org/wiki/Rockstar_(DaBaby_song)  \n",
       "..                                                       ...  \n",
       "95       https://en.wikipedia.org/wiki/More_Than_My_Hometown  \n",
       "96             https://en.wikipedia.org/wiki/Lovin%27_on_You  \n",
       "97                    https://en.wikipedia.org/wiki/Said_Sum  \n",
       "98         https://en.wikipedia.org/wiki/Slide_(H.E.R._song)  \n",
       "99                https://en.wikipedia.org/wiki/Walk_Em_Down  \n",
       "\n",
       "[100 rows x 4 columns]"
      ]
     },
     "execution_count": 18,
     "metadata": {},
     "output_type": "execute_result"
    }
   ],
   "source": [
    "df = pd.DataFrame(songlist)\n",
    "df"
   ]
  },
  {
   "cell_type": "code",
   "execution_count": 25,
   "metadata": {},
   "outputs": [],
   "source": [
    "df.to_csv(f'{bdsongs}.csv', index = False)"
   ]
  }
 ],
 "metadata": {
  "kernelspec": {
   "display_name": "Python 3",
   "language": "python",
   "name": "python3"
  },
  "language_info": {
   "codemirror_mode": {
    "name": "ipython",
    "version": 3
   },
   "file_extension": ".py",
   "mimetype": "text/x-python",
   "name": "python",
   "nbconvert_exporter": "python",
   "pygments_lexer": "ipython3",
   "version": "3.8.5"
  }
 },
 "nbformat": 4,
 "nbformat_minor": 4
}
