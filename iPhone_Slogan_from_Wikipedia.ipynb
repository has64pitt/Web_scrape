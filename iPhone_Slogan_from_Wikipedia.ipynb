{
 "cells": [
  {
   "cell_type": "markdown",
   "metadata": {},
   "source": [
    "# Each generation of iPhone has its own slogan. The slogan for iPhone 12 is \"It's a leap year\""
   ]
  },
  {
   "cell_type": "markdown",
   "metadata": {},
   "source": [
    "![title](img/iphone12_slogan.png)\n"
   ]
  },
  {
   "cell_type": "markdown",
   "metadata": {},
   "source": [
    "# Do you know the slogans for all previous generations of iPhones?\n",
    "\n",
    "# In this notebook, i will find out slogans for each generation of iPhones by looking through wikipedia page (with BeautifulSoup)\n"
   ]
  },
  {
   "cell_type": "code",
   "execution_count": 1,
   "metadata": {},
   "outputs": [],
   "source": [
    "import pandas as pd\n",
    "import requests\n",
    "import re\n",
    "import time\n",
    "from bs4 import BeautifulSoup as bs"
   ]
  },
  {
   "cell_type": "code",
   "execution_count": 2,
   "metadata": {},
   "outputs": [
    {
     "data": {
      "text/html": [
       "<style>.container { width:100% !important; }</style>"
      ],
      "text/plain": [
       "<IPython.core.display.HTML object>"
      ]
     },
     "metadata": {},
     "output_type": "display_data"
    },
    {
     "data": {
      "text/html": [
       "<style>body {\n",
       "    margin: 0;\n",
       "    font-family: Helvetica;\n",
       "}\n",
       "table.dataframe {\n",
       "    border-collapse: collapse;\n",
       "    border: none;\n",
       "}\n",
       "table.dataframe tr {\n",
       "    border: none;\n",
       "}\n",
       "table.dataframe td, table.dataframe th {\n",
       "    margin: 0;\n",
       "    border: 1px solid white;\n",
       "    padding-left: 0.25em;\n",
       "    padding-right: 0.25em;\n",
       "}\n",
       "table.dataframe th:not(:empty) {\n",
       "    background-color: #fec;\n",
       "    text-align: left;\n",
       "    font-weight: normal;\n",
       "}\n",
       "table.dataframe tr:nth-child(2) th:empty {\n",
       "    border-left: none;\n",
       "    border-right: 1px dashed #888;\n",
       "}\n",
       "table.dataframe td {\n",
       "    border: 2px solid #ccf;\n",
       "    background-color: #f4f4ff;\n",
       "}h3 {\n",
       "    color: white;\n",
       "    background-color: black;\n",
       "    padding: 0.5em;\n",
       "}</style>"
      ],
      "text/plain": [
       "<IPython.core.display.HTML object>"
      ]
     },
     "execution_count": 2,
     "metadata": {},
     "output_type": "execute_result"
    }
   ],
   "source": [
    "display(HTML(\"<style>.container { width:100% !important; }</style>\"))\n",
    "css = open('../style-table.css').read() + open('../style-notebook.css').read()\n",
    "HTML('<style>{}</style>'.format(css))"
   ]
  },
  {
   "cell_type": "markdown",
   "metadata": {},
   "source": [
    "# iPhone main wiki page"
   ]
  },
  {
   "cell_type": "code",
   "execution_count": 3,
   "metadata": {},
   "outputs": [
    {
     "data": {
      "text/plain": [
       "200"
      ]
     },
     "execution_count": 3,
     "metadata": {},
     "output_type": "execute_result"
    }
   ],
   "source": [
    "url = 'https://en.wikipedia.org/wiki/IPhone'\n",
    "\n",
    "response = requests.get(url)\n",
    "\n",
    "response.status_code"
   ]
  },
  {
   "cell_type": "code",
   "execution_count": 4,
   "metadata": {},
   "outputs": [],
   "source": [
    "page = response.text\n",
    "\n",
    "soup = bs(page)"
   ]
  },
  {
   "cell_type": "code",
   "execution_count": 5,
   "metadata": {},
   "outputs": [],
   "source": [
    "mytable = soup.find('table', class_ = 'wikitable')"
   ]
  },
  {
   "cell_type": "markdown",
   "metadata": {},
   "source": [
    "# Get wiki page for each generation of iPhone"
   ]
  },
  {
   "cell_type": "code",
   "execution_count": 6,
   "metadata": {},
   "outputs": [
    {
     "data": {
      "text/plain": [
       "['https://en.wikipedia.org/wiki/IPhone_(1st_generation)',\n",
       " 'https://en.wikipedia.org/wiki/IPhone_3G',\n",
       " 'https://en.wikipedia.org/wiki/IPhone_3GS',\n",
       " 'https://en.wikipedia.org/wiki/IPhone_4',\n",
       " 'https://en.wikipedia.org/wiki/IPhone_4S',\n",
       " 'https://en.wikipedia.org/wiki/IPhone_5',\n",
       " 'https://en.wikipedia.org/wiki/IPhone_5C',\n",
       " 'https://en.wikipedia.org/wiki/IPhone_5S',\n",
       " 'https://en.wikipedia.org/wiki/IPhone_6',\n",
       " 'https://en.wikipedia.org/wiki/IPhone_6S',\n",
       " 'https://en.wikipedia.org/wiki/IPhone_SE_(1st_generation)',\n",
       " 'https://en.wikipedia.org/wiki/IPhone_7',\n",
       " 'https://en.wikipedia.org/wiki/IPhone_8',\n",
       " 'https://en.wikipedia.org/wiki/IPhone_X',\n",
       " 'https://en.wikipedia.org/wiki/IPhone_XS',\n",
       " 'https://en.wikipedia.org/wiki/IPhone_XR',\n",
       " 'https://en.wikipedia.org/wiki/IPhone_11',\n",
       " 'https://en.wikipedia.org/wiki/IPhone_11_Pro',\n",
       " 'https://en.wikipedia.org/wiki/IPhone_SE_(2nd_generation)',\n",
       " 'https://en.wikipedia.org/wiki/IPhone_12',\n",
       " 'https://en.wikipedia.org/wiki/IPhone_12_Pro']"
      ]
     },
     "execution_count": 6,
     "metadata": {},
     "output_type": "execute_result"
    }
   ],
   "source": [
    "iphone_re = re.compile('iPhone')\n",
    "\n",
    "wiki_prefix = 'https://en.wikipedia.org'\n",
    "\n",
    "iphone_urls = [ wiki_prefix + p.find(text = iphone_re).parent['href'] \n",
    "               for p in mytable.find_all('th') \n",
    "               if (p.find(text = iphone_re))]\n",
    "\n",
    "iphone_urls"
   ]
  },
  {
   "cell_type": "markdown",
   "metadata": {},
   "source": [
    "# Get slogan by visiting each url"
   ]
  },
  {
   "cell_type": "code",
   "execution_count": 7,
   "metadata": {},
   "outputs": [],
   "source": [
    "def get_page_from_url(url):\n",
    "    page = requests.get(url).text\n",
    "    return bs(page)"
   ]
  },
  {
   "cell_type": "code",
   "execution_count": 8,
   "metadata": {},
   "outputs": [],
   "source": [
    "slogans = []\n",
    "iPhone_names = []\n",
    "for url in iphone_urls:\n",
    "    page = get_page_from_url(url)\n",
    "    time.sleep(1)\n",
    "    \n",
    "    iPhone_names.append(page.find('caption', class_='fn').text)\n",
    "    slogans.append(page.find(title = 'Slogan').next.next.text)"
   ]
  },
  {
   "cell_type": "markdown",
   "metadata": {},
   "source": [
    "# Make DataFrame and adjust appearance"
   ]
  },
  {
   "cell_type": "code",
   "execution_count": 9,
   "metadata": {},
   "outputs": [
    {
     "data": {
      "text/html": [
       "<div>\n",
       "<style scoped>\n",
       "    .dataframe tbody tr th:only-of-type {\n",
       "        vertical-align: middle;\n",
       "    }\n",
       "\n",
       "    .dataframe tbody tr th {\n",
       "        vertical-align: top;\n",
       "    }\n",
       "\n",
       "    .dataframe thead th {\n",
       "        text-align: right;\n",
       "    }\n",
       "</style>\n",
       "<table border=\"1\" class=\"dataframe\">\n",
       "  <thead>\n",
       "    <tr style=\"text-align: right;\">\n",
       "      <th></th>\n",
       "      <th>iPhone</th>\n",
       "      <th>Slogan</th>\n",
       "    </tr>\n",
       "  </thead>\n",
       "  <tbody>\n",
       "    <tr>\n",
       "      <th>0</th>\n",
       "      <td>iPhone</td>\n",
       "      <td>\\n\"This is only the beginning.\"\\n\"Apple reinve...</td>\n",
       "    </tr>\n",
       "    <tr>\n",
       "      <th>1</th>\n",
       "      <td>iPhone 3G</td>\n",
       "      <td>\"The iPhone you have been waiting for.\"\"The fi...</td>\n",
       "    </tr>\n",
       "  </tbody>\n",
       "</table>\n",
       "</div>"
      ],
      "text/plain": [
       "      iPhone                                             Slogan\n",
       "0     iPhone  \\n\"This is only the beginning.\"\\n\"Apple reinve...\n",
       "1  iPhone 3G  \"The iPhone you have been waiting for.\"\"The fi..."
      ]
     },
     "execution_count": 9,
     "metadata": {},
     "output_type": "execute_result"
    }
   ],
   "source": [
    "df = pd.DataFrame({'iPhone' : iPhone_names,  'Slogan' : slogans})\n",
    "df.head(2)"
   ]
  },
  {
   "cell_type": "code",
   "execution_count": 10,
   "metadata": {},
   "outputs": [
    {
     "data": {
      "text/html": [
       "<div>\n",
       "<style scoped>\n",
       "    .dataframe tbody tr th:only-of-type {\n",
       "        vertical-align: middle;\n",
       "    }\n",
       "\n",
       "    .dataframe tbody tr th {\n",
       "        vertical-align: top;\n",
       "    }\n",
       "\n",
       "    .dataframe thead th {\n",
       "        text-align: right;\n",
       "    }\n",
       "</style>\n",
       "<table border=\"1\" class=\"dataframe\">\n",
       "  <thead>\n",
       "    <tr style=\"text-align: right;\">\n",
       "      <th></th>\n",
       "      <th>iPhone</th>\n",
       "      <th>Slogan</th>\n",
       "    </tr>\n",
       "  </thead>\n",
       "  <tbody>\n",
       "    <tr>\n",
       "      <th>0</th>\n",
       "      <td>iPhone</td>\n",
       "      <td>This is only the beginning.Apple reinvents the...</td>\n",
       "    </tr>\n",
       "    <tr>\n",
       "      <th>1</th>\n",
       "      <td>iPhone 3G</td>\n",
       "      <td>The iPhone you have been waiting for.The first...</td>\n",
       "    </tr>\n",
       "  </tbody>\n",
       "</table>\n",
       "</div>"
      ],
      "text/plain": [
       "      iPhone                                             Slogan\n",
       "0     iPhone  This is only the beginning.Apple reinvents the...\n",
       "1  iPhone 3G  The iPhone you have been waiting for.The first..."
      ]
     },
     "execution_count": 10,
     "metadata": {},
     "output_type": "execute_result"
    }
   ],
   "source": [
    "df.Slogan = df.Slogan.apply(lambda x: re.sub('\"', '', x)).apply(lambda x: re.sub(r'\\[\\d+\\]', '', x)).apply(lambda x: re.sub(r'\\n', '', x))\n",
    "df.head(2)"
   ]
  },
  {
   "cell_type": "code",
   "execution_count": 11,
   "metadata": {},
   "outputs": [
    {
     "data": {
      "text/html": [
       "<style  type=\"text/css\" >\n",
       "    #T_8fbad5b0_418a_11eb_88da_98af65751ac4 th {\n",
       "          text-align: left;\n",
       "    }#T_8fbad5b0_418a_11eb_88da_98af65751ac4row0_col0,#T_8fbad5b0_418a_11eb_88da_98af65751ac4row0_col1,#T_8fbad5b0_418a_11eb_88da_98af65751ac4row1_col0,#T_8fbad5b0_418a_11eb_88da_98af65751ac4row1_col1,#T_8fbad5b0_418a_11eb_88da_98af65751ac4row2_col0,#T_8fbad5b0_418a_11eb_88da_98af65751ac4row2_col1,#T_8fbad5b0_418a_11eb_88da_98af65751ac4row3_col0,#T_8fbad5b0_418a_11eb_88da_98af65751ac4row3_col1,#T_8fbad5b0_418a_11eb_88da_98af65751ac4row4_col0,#T_8fbad5b0_418a_11eb_88da_98af65751ac4row4_col1,#T_8fbad5b0_418a_11eb_88da_98af65751ac4row5_col0,#T_8fbad5b0_418a_11eb_88da_98af65751ac4row5_col1,#T_8fbad5b0_418a_11eb_88da_98af65751ac4row6_col0,#T_8fbad5b0_418a_11eb_88da_98af65751ac4row6_col1,#T_8fbad5b0_418a_11eb_88da_98af65751ac4row7_col0,#T_8fbad5b0_418a_11eb_88da_98af65751ac4row7_col1,#T_8fbad5b0_418a_11eb_88da_98af65751ac4row8_col0,#T_8fbad5b0_418a_11eb_88da_98af65751ac4row8_col1,#T_8fbad5b0_418a_11eb_88da_98af65751ac4row9_col0,#T_8fbad5b0_418a_11eb_88da_98af65751ac4row9_col1,#T_8fbad5b0_418a_11eb_88da_98af65751ac4row10_col0,#T_8fbad5b0_418a_11eb_88da_98af65751ac4row10_col1,#T_8fbad5b0_418a_11eb_88da_98af65751ac4row11_col0,#T_8fbad5b0_418a_11eb_88da_98af65751ac4row11_col1,#T_8fbad5b0_418a_11eb_88da_98af65751ac4row12_col0,#T_8fbad5b0_418a_11eb_88da_98af65751ac4row12_col1,#T_8fbad5b0_418a_11eb_88da_98af65751ac4row13_col0,#T_8fbad5b0_418a_11eb_88da_98af65751ac4row13_col1,#T_8fbad5b0_418a_11eb_88da_98af65751ac4row14_col0,#T_8fbad5b0_418a_11eb_88da_98af65751ac4row14_col1,#T_8fbad5b0_418a_11eb_88da_98af65751ac4row15_col0,#T_8fbad5b0_418a_11eb_88da_98af65751ac4row15_col1,#T_8fbad5b0_418a_11eb_88da_98af65751ac4row16_col0,#T_8fbad5b0_418a_11eb_88da_98af65751ac4row16_col1,#T_8fbad5b0_418a_11eb_88da_98af65751ac4row17_col0,#T_8fbad5b0_418a_11eb_88da_98af65751ac4row17_col1,#T_8fbad5b0_418a_11eb_88da_98af65751ac4row18_col0,#T_8fbad5b0_418a_11eb_88da_98af65751ac4row18_col1,#T_8fbad5b0_418a_11eb_88da_98af65751ac4row19_col0,#T_8fbad5b0_418a_11eb_88da_98af65751ac4row19_col1,#T_8fbad5b0_418a_11eb_88da_98af65751ac4row20_col0,#T_8fbad5b0_418a_11eb_88da_98af65751ac4row20_col1{\n",
       "            text-align:  left;\n",
       "        }</style><table id=\"T_8fbad5b0_418a_11eb_88da_98af65751ac4\" ><thead>    <tr>        <th class=\"blank level0\" ></th>        <th class=\"col_heading level0 col0\" >iPhone</th>        <th class=\"col_heading level0 col1\" >Slogan</th>    </tr></thead><tbody>\n",
       "                <tr>\n",
       "                        <th id=\"T_8fbad5b0_418a_11eb_88da_98af65751ac4level0_row0\" class=\"row_heading level0 row0\" >0</th>\n",
       "                        <td id=\"T_8fbad5b0_418a_11eb_88da_98af65751ac4row0_col0\" class=\"data row0 col0\" >iPhone</td>\n",
       "                        <td id=\"T_8fbad5b0_418a_11eb_88da_98af65751ac4row0_col1\" class=\"data row0 col1\" >This is only the beginning.Apple reinvents the phone.</td>\n",
       "            </tr>\n",
       "            <tr>\n",
       "                        <th id=\"T_8fbad5b0_418a_11eb_88da_98af65751ac4level0_row1\" class=\"row_heading level0 row1\" >1</th>\n",
       "                        <td id=\"T_8fbad5b0_418a_11eb_88da_98af65751ac4row1_col0\" class=\"data row1 col0\" >iPhone 3G</td>\n",
       "                        <td id=\"T_8fbad5b0_418a_11eb_88da_98af65751ac4row1_col1\" class=\"data row1 col1\" >The iPhone you have been waiting for.The first phone to beat the iPhone.Twice as fast, for half the price.The most advanced mobile OS. Now even more advanced.New features, new price.</td>\n",
       "            </tr>\n",
       "            <tr>\n",
       "                        <th id=\"T_8fbad5b0_418a_11eb_88da_98af65751ac4level0_row2\" class=\"row_heading level0 row2\" >2</th>\n",
       "                        <td id=\"T_8fbad5b0_418a_11eb_88da_98af65751ac4row2_col0\" class=\"data row2 col0\" >iPhone 3GS</td>\n",
       "                        <td id=\"T_8fbad5b0_418a_11eb_88da_98af65751ac4row2_col1\" class=\"data row2 col1\" >The fastest, smartest phone yet. (2009–2010)More to love. Less to pay. (2010–2012)</td>\n",
       "            </tr>\n",
       "            <tr>\n",
       "                        <th id=\"T_8fbad5b0_418a_11eb_88da_98af65751ac4level0_row3\" class=\"row_heading level0 row3\" >3</th>\n",
       "                        <td id=\"T_8fbad5b0_418a_11eb_88da_98af65751ac4row3_col0\" class=\"data row3 col0\" >iPhone 4</td>\n",
       "                        <td id=\"T_8fbad5b0_418a_11eb_88da_98af65751ac4row3_col1\" class=\"data row3 col1\" >This changes everything. Again.</td>\n",
       "            </tr>\n",
       "            <tr>\n",
       "                        <th id=\"T_8fbad5b0_418a_11eb_88da_98af65751ac4level0_row4\" class=\"row_heading level0 row4\" >4</th>\n",
       "                        <td id=\"T_8fbad5b0_418a_11eb_88da_98af65751ac4row4_col0\" class=\"data row4 col0\" >iPhone 4S</td>\n",
       "                        <td id=\"T_8fbad5b0_418a_11eb_88da_98af65751ac4row4_col1\" class=\"data row4 col1\" >The most amazing iPhone yet.</td>\n",
       "            </tr>\n",
       "            <tr>\n",
       "                        <th id=\"T_8fbad5b0_418a_11eb_88da_98af65751ac4level0_row5\" class=\"row_heading level0 row5\" >5</th>\n",
       "                        <td id=\"T_8fbad5b0_418a_11eb_88da_98af65751ac4row5_col0\" class=\"data row5 col0\" >iPhone 5</td>\n",
       "                        <td id=\"T_8fbad5b0_418a_11eb_88da_98af65751ac4row5_col1\" class=\"data row5 col1\" >Loving it is easy. That's why so many people do. (since March 2013)The biggest thing to happen to iPhone since iPhone. (before March 2013)</td>\n",
       "            </tr>\n",
       "            <tr>\n",
       "                        <th id=\"T_8fbad5b0_418a_11eb_88da_98af65751ac4level0_row6\" class=\"row_heading level0 row6\" >6</th>\n",
       "                        <td id=\"T_8fbad5b0_418a_11eb_88da_98af65751ac4row6_col0\" class=\"data row6 col0\" >iPhone 5c</td>\n",
       "                        <td id=\"T_8fbad5b0_418a_11eb_88da_98af65751ac4row6_col1\" class=\"data row6 col1\" >For the colorful</td>\n",
       "            </tr>\n",
       "            <tr>\n",
       "                        <th id=\"T_8fbad5b0_418a_11eb_88da_98af65751ac4level0_row7\" class=\"row_heading level0 row7\" >7</th>\n",
       "                        <td id=\"T_8fbad5b0_418a_11eb_88da_98af65751ac4row7_col0\" class=\"data row7 col0\" >iPhone 5S</td>\n",
       "                        <td id=\"T_8fbad5b0_418a_11eb_88da_98af65751ac4row7_col1\" class=\"data row7 col1\" >Since April 2014: You're more powerful than you think.Until April 2014: Forward thinking</td>\n",
       "            </tr>\n",
       "            <tr>\n",
       "                        <th id=\"T_8fbad5b0_418a_11eb_88da_98af65751ac4level0_row8\" class=\"row_heading level0 row8\" >8</th>\n",
       "                        <td id=\"T_8fbad5b0_418a_11eb_88da_98af65751ac4row8_col0\" class=\"data row8 col0\" >iPhone 6iPhone 6 Plus</td>\n",
       "                        <td id=\"T_8fbad5b0_418a_11eb_88da_98af65751ac4row8_col1\" class=\"data row8 col1\" >Bigger than biggerThe two and only</td>\n",
       "            </tr>\n",
       "            <tr>\n",
       "                        <th id=\"T_8fbad5b0_418a_11eb_88da_98af65751ac4level0_row9\" class=\"row_heading level0 row9\" >9</th>\n",
       "                        <td id=\"T_8fbad5b0_418a_11eb_88da_98af65751ac4row9_col0\" class=\"data row9 col0\" >iPhone 6SiPhone 6S Plus</td>\n",
       "                        <td id=\"T_8fbad5b0_418a_11eb_88da_98af65751ac4row9_col1\" class=\"data row9 col1\" >The only thing that’s changed is everything.One powerful phone</td>\n",
       "            </tr>\n",
       "            <tr>\n",
       "                        <th id=\"T_8fbad5b0_418a_11eb_88da_98af65751ac4level0_row10\" class=\"row_heading level0 row10\" >10</th>\n",
       "                        <td id=\"T_8fbad5b0_418a_11eb_88da_98af65751ac4row10_col0\" class=\"data row10 col0\" >iPhone SE</td>\n",
       "                        <td id=\"T_8fbad5b0_418a_11eb_88da_98af65751ac4row10_col1\" class=\"data row10 col1\" >A big step for small.</td>\n",
       "            </tr>\n",
       "            <tr>\n",
       "                        <th id=\"T_8fbad5b0_418a_11eb_88da_98af65751ac4level0_row11\" class=\"row_heading level0 row11\" >11</th>\n",
       "                        <td id=\"T_8fbad5b0_418a_11eb_88da_98af65751ac4row11_col0\" class=\"data row11 col0\" >iPhone 7iPhone 7 Plus</td>\n",
       "                        <td id=\"T_8fbad5b0_418a_11eb_88da_98af65751ac4row11_col1\" class=\"data row11 col1\" >This is 7</td>\n",
       "            </tr>\n",
       "            <tr>\n",
       "                        <th id=\"T_8fbad5b0_418a_11eb_88da_98af65751ac4level0_row12\" class=\"row_heading level0 row12\" >12</th>\n",
       "                        <td id=\"T_8fbad5b0_418a_11eb_88da_98af65751ac4row12_col0\" class=\"data row12 col0\" >iPhone 8iPhone 8 Plus</td>\n",
       "                        <td id=\"T_8fbad5b0_418a_11eb_88da_98af65751ac4row12_col1\" class=\"data row12 col1\" >A new generation of iPhone</td>\n",
       "            </tr>\n",
       "            <tr>\n",
       "                        <th id=\"T_8fbad5b0_418a_11eb_88da_98af65751ac4level0_row13\" class=\"row_heading level0 row13\" >13</th>\n",
       "                        <td id=\"T_8fbad5b0_418a_11eb_88da_98af65751ac4row13_col0\" class=\"data row13 col0\" >iPhone X</td>\n",
       "                        <td id=\"T_8fbad5b0_418a_11eb_88da_98af65751ac4row13_col1\" class=\"data row13 col1\" >Say hello to the future.</td>\n",
       "            </tr>\n",
       "            <tr>\n",
       "                        <th id=\"T_8fbad5b0_418a_11eb_88da_98af65751ac4level0_row14\" class=\"row_heading level0 row14\" >14</th>\n",
       "                        <td id=\"T_8fbad5b0_418a_11eb_88da_98af65751ac4row14_col0\" class=\"data row14 col0\" >iPhone XS/XS Max</td>\n",
       "                        <td id=\"T_8fbad5b0_418a_11eb_88da_98af65751ac4row14_col1\" class=\"data row14 col1\" >Welcome to the big screens.</td>\n",
       "            </tr>\n",
       "            <tr>\n",
       "                        <th id=\"T_8fbad5b0_418a_11eb_88da_98af65751ac4level0_row15\" class=\"row_heading level0 row15\" >15</th>\n",
       "                        <td id=\"T_8fbad5b0_418a_11eb_88da_98af65751ac4row15_col0\" class=\"data row15 col0\" >iPhone XR</td>\n",
       "                        <td id=\"T_8fbad5b0_418a_11eb_88da_98af65751ac4row15_col1\" class=\"data row15 col1\" >Brilliant. In every way.Make room for color.</td>\n",
       "            </tr>\n",
       "            <tr>\n",
       "                        <th id=\"T_8fbad5b0_418a_11eb_88da_98af65751ac4level0_row16\" class=\"row_heading level0 row16\" >16</th>\n",
       "                        <td id=\"T_8fbad5b0_418a_11eb_88da_98af65751ac4row16_col0\" class=\"data row16 col0\" >iPhone 11</td>\n",
       "                        <td id=\"T_8fbad5b0_418a_11eb_88da_98af65751ac4row16_col1\" class=\"data row16 col1\" >Just the right amount of everything.</td>\n",
       "            </tr>\n",
       "            <tr>\n",
       "                        <th id=\"T_8fbad5b0_418a_11eb_88da_98af65751ac4level0_row17\" class=\"row_heading level0 row17\" >17</th>\n",
       "                        <td id=\"T_8fbad5b0_418a_11eb_88da_98af65751ac4row17_col0\" class=\"data row17 col0\" >iPhone 11 Pro iPhone 11 Pro Max</td>\n",
       "                        <td id=\"T_8fbad5b0_418a_11eb_88da_98af65751ac4row17_col1\" class=\"data row17 col1\" >And then there was Pro.Pro Cameras. Pro Display. Pro Performance.</td>\n",
       "            </tr>\n",
       "            <tr>\n",
       "                        <th id=\"T_8fbad5b0_418a_11eb_88da_98af65751ac4level0_row18\" class=\"row_heading level0 row18\" >18</th>\n",
       "                        <td id=\"T_8fbad5b0_418a_11eb_88da_98af65751ac4row18_col0\" class=\"data row18 col0\" >iPhone SE</td>\n",
       "                        <td id=\"T_8fbad5b0_418a_11eb_88da_98af65751ac4row18_col1\" class=\"data row18 col1\" >Lots to love. Less to spend.</td>\n",
       "            </tr>\n",
       "            <tr>\n",
       "                        <th id=\"T_8fbad5b0_418a_11eb_88da_98af65751ac4level0_row19\" class=\"row_heading level0 row19\" >19</th>\n",
       "                        <td id=\"T_8fbad5b0_418a_11eb_88da_98af65751ac4row19_col0\" class=\"data row19 col0\" >iPhone 12iPhone 12 Mini</td>\n",
       "                        <td id=\"T_8fbad5b0_418a_11eb_88da_98af65751ac4row19_col1\" class=\"data row19 col1\" >Blast past fast.</td>\n",
       "            </tr>\n",
       "            <tr>\n",
       "                        <th id=\"T_8fbad5b0_418a_11eb_88da_98af65751ac4level0_row20\" class=\"row_heading level0 row20\" >20</th>\n",
       "                        <td id=\"T_8fbad5b0_418a_11eb_88da_98af65751ac4row20_col0\" class=\"data row20 col0\" >iPhone 12 ProiPhone 12 Pro Max</td>\n",
       "                        <td id=\"T_8fbad5b0_418a_11eb_88da_98af65751ac4row20_col1\" class=\"data row20 col1\" >It's a leap year.</td>\n",
       "            </tr>\n",
       "    </tbody></table>"
      ],
      "text/plain": [
       "<pandas.io.formats.style.Styler at 0x2d5943dd588>"
      ]
     },
     "execution_count": 11,
     "metadata": {},
     "output_type": "execute_result"
    }
   ],
   "source": [
    "pd.set_option('display.max_colwidth', 200)\n",
    "dfStyler = df.style.set_properties(**{'text-align': 'left'})\n",
    "dfStyler.set_table_styles([dict(selector='th', props=[('text-align', 'left')])])"
   ]
  }
 ],
 "metadata": {
  "kernelspec": {
   "display_name": "Python 3",
   "language": "python",
   "name": "python3"
  },
  "language_info": {
   "codemirror_mode": {
    "name": "ipython",
    "version": 3
   },
   "file_extension": ".py",
   "mimetype": "text/x-python",
   "name": "python",
   "nbconvert_exporter": "python",
   "pygments_lexer": "ipython3",
   "version": "3.7.6"
  }
 },
 "nbformat": 4,
 "nbformat_minor": 4
}
